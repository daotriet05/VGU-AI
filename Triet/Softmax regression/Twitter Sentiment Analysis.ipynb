{
  "nbformat": 4,
  "nbformat_minor": 0,
  "metadata": {
    "colab": {
      "provenance": [],
      "gpuType": "T4"
    },
    "kernelspec": {
      "name": "python3",
      "display_name": "Python 3"
    },
    "language_info": {
      "name": "python"
    },
    "accelerator": "GPU"
  },
  "cells": [
    {
      "cell_type": "markdown",
      "source": [
        "#Import Lib"
      ],
      "metadata": {
        "id": "wRRVSLYcw8iW"
      }
    },
    {
      "cell_type": "code",
      "execution_count": 1,
      "metadata": {
        "colab": {
          "base_uri": "https://localhost:8080/"
        },
        "id": "zjTA8zxuweui",
        "outputId": "2e414839-8a77-4f40-b059-7ec5d6acaf4d"
      },
      "outputs": [
        {
          "output_type": "stream",
          "name": "stderr",
          "text": [
            "[nltk_data] Downloading package stopwords to /root/nltk_data...\n",
            "[nltk_data]   Package stopwords is already up-to-date!\n"
          ]
        }
      ],
      "source": [
        "import pandas as pd\n",
        "import numpy as np\n",
        "import matplotlib.pyplot as plt\n",
        "\n",
        "from sklearn.model_selection import train_test_split\n",
        "from sklearn.feature_extraction.text import TfidfVectorizer\n",
        "from sklearn.preprocessing import StandardScaler\n",
        "\n",
        "import re\n",
        "import nltk\n",
        "nltk.download('stopwords')\n",
        "from nltk.corpus import stopwords\n",
        "from nltk.stem import SnowballStemmer"
      ]
    },
    {
      "cell_type": "markdown",
      "source": [
        "#Load Data"
      ],
      "metadata": {
        "id": "x9Tu2iaOx7gM"
      }
    },
    {
      "cell_type": "code",
      "source": [
        "from google.colab import drive\n",
        "drive.mount('/content/drive/')"
      ],
      "metadata": {
        "colab": {
          "base_uri": "https://localhost:8080/"
        },
        "id": "a2Vv6gJcx52J",
        "outputId": "04797053-1916-4b3a-d2b9-f041af29c345"
      },
      "execution_count": 2,
      "outputs": [
        {
          "output_type": "stream",
          "name": "stdout",
          "text": [
            "Drive already mounted at /content/drive/; to attempt to forcibly remount, call drive.mount(\"/content/drive/\", force_remount=True).\n"
          ]
        }
      ]
    },
    {
      "cell_type": "code",
      "source": [
        "%cd /content/drive/MyDrive/Colab Notebooks/VGU AI/Softmax Regression"
      ],
      "metadata": {
        "colab": {
          "base_uri": "https://localhost:8080/"
        },
        "id": "X-DvDsfsyG2F",
        "outputId": "b056de94-18ed-4da7-a43d-26d8057439dc"
      },
      "execution_count": 3,
      "outputs": [
        {
          "output_type": "stream",
          "name": "stdout",
          "text": [
            "/content/drive/MyDrive/Colab Notebooks/VGU AI/Softmax Regression\n"
          ]
        }
      ]
    },
    {
      "cell_type": "code",
      "source": [
        "df=pd.read_csv(\n",
        "    'Twitter_Data.csv',\n",
        ")"
      ],
      "metadata": {
        "id": "EKg2g6tEyMZ1"
      },
      "execution_count": 4,
      "outputs": []
    },
    {
      "cell_type": "code",
      "source": [
        "df"
      ],
      "metadata": {
        "colab": {
          "base_uri": "https://localhost:8080/",
          "height": 0
        },
        "id": "3K_lITYnyVsi",
        "outputId": "a79314cc-7977-4a8c-9a8e-45809e6a4063"
      },
      "execution_count": 5,
      "outputs": [
        {
          "output_type": "execute_result",
          "data": {
            "text/plain": [
              "                                               clean_text  category\n",
              "0       when modi promised “minimum government maximum...      -1.0\n",
              "1       talk all the nonsense and continue all the dra...       0.0\n",
              "2       what did just say vote for modi  welcome bjp t...       1.0\n",
              "3       asking his supporters prefix chowkidar their n...       1.0\n",
              "4       answer who among these the most powerful world...       1.0\n",
              "...                                                   ...       ...\n",
              "162975  why these 456 crores paid neerav modi not reco...      -1.0\n",
              "162976  dear rss terrorist payal gawar what about modi...      -1.0\n",
              "162977  did you cover her interaction forum where she ...       0.0\n",
              "162978  there big project came into india modi dream p...       0.0\n",
              "162979  have you ever listen about like gurukul where ...       1.0\n",
              "\n",
              "[162980 rows x 2 columns]"
            ],
            "text/html": [
              "\n",
              "  <div id=\"df-c033b603-5b7e-43cf-bb71-80ccc98b7174\" class=\"colab-df-container\">\n",
              "    <div>\n",
              "<style scoped>\n",
              "    .dataframe tbody tr th:only-of-type {\n",
              "        vertical-align: middle;\n",
              "    }\n",
              "\n",
              "    .dataframe tbody tr th {\n",
              "        vertical-align: top;\n",
              "    }\n",
              "\n",
              "    .dataframe thead th {\n",
              "        text-align: right;\n",
              "    }\n",
              "</style>\n",
              "<table border=\"1\" class=\"dataframe\">\n",
              "  <thead>\n",
              "    <tr style=\"text-align: right;\">\n",
              "      <th></th>\n",
              "      <th>clean_text</th>\n",
              "      <th>category</th>\n",
              "    </tr>\n",
              "  </thead>\n",
              "  <tbody>\n",
              "    <tr>\n",
              "      <th>0</th>\n",
              "      <td>when modi promised “minimum government maximum...</td>\n",
              "      <td>-1.0</td>\n",
              "    </tr>\n",
              "    <tr>\n",
              "      <th>1</th>\n",
              "      <td>talk all the nonsense and continue all the dra...</td>\n",
              "      <td>0.0</td>\n",
              "    </tr>\n",
              "    <tr>\n",
              "      <th>2</th>\n",
              "      <td>what did just say vote for modi  welcome bjp t...</td>\n",
              "      <td>1.0</td>\n",
              "    </tr>\n",
              "    <tr>\n",
              "      <th>3</th>\n",
              "      <td>asking his supporters prefix chowkidar their n...</td>\n",
              "      <td>1.0</td>\n",
              "    </tr>\n",
              "    <tr>\n",
              "      <th>4</th>\n",
              "      <td>answer who among these the most powerful world...</td>\n",
              "      <td>1.0</td>\n",
              "    </tr>\n",
              "    <tr>\n",
              "      <th>...</th>\n",
              "      <td>...</td>\n",
              "      <td>...</td>\n",
              "    </tr>\n",
              "    <tr>\n",
              "      <th>162975</th>\n",
              "      <td>why these 456 crores paid neerav modi not reco...</td>\n",
              "      <td>-1.0</td>\n",
              "    </tr>\n",
              "    <tr>\n",
              "      <th>162976</th>\n",
              "      <td>dear rss terrorist payal gawar what about modi...</td>\n",
              "      <td>-1.0</td>\n",
              "    </tr>\n",
              "    <tr>\n",
              "      <th>162977</th>\n",
              "      <td>did you cover her interaction forum where she ...</td>\n",
              "      <td>0.0</td>\n",
              "    </tr>\n",
              "    <tr>\n",
              "      <th>162978</th>\n",
              "      <td>there big project came into india modi dream p...</td>\n",
              "      <td>0.0</td>\n",
              "    </tr>\n",
              "    <tr>\n",
              "      <th>162979</th>\n",
              "      <td>have you ever listen about like gurukul where ...</td>\n",
              "      <td>1.0</td>\n",
              "    </tr>\n",
              "  </tbody>\n",
              "</table>\n",
              "<p>162980 rows × 2 columns</p>\n",
              "</div>\n",
              "    <div class=\"colab-df-buttons\">\n",
              "\n",
              "  <div class=\"colab-df-container\">\n",
              "    <button class=\"colab-df-convert\" onclick=\"convertToInteractive('df-c033b603-5b7e-43cf-bb71-80ccc98b7174')\"\n",
              "            title=\"Convert this dataframe to an interactive table.\"\n",
              "            style=\"display:none;\">\n",
              "\n",
              "  <svg xmlns=\"http://www.w3.org/2000/svg\" height=\"24px\" viewBox=\"0 -960 960 960\">\n",
              "    <path d=\"M120-120v-720h720v720H120Zm60-500h600v-160H180v160Zm220 220h160v-160H400v160Zm0 220h160v-160H400v160ZM180-400h160v-160H180v160Zm440 0h160v-160H620v160ZM180-180h160v-160H180v160Zm440 0h160v-160H620v160Z\"/>\n",
              "  </svg>\n",
              "    </button>\n",
              "\n",
              "  <style>\n",
              "    .colab-df-container {\n",
              "      display:flex;\n",
              "      gap: 12px;\n",
              "    }\n",
              "\n",
              "    .colab-df-convert {\n",
              "      background-color: #E8F0FE;\n",
              "      border: none;\n",
              "      border-radius: 50%;\n",
              "      cursor: pointer;\n",
              "      display: none;\n",
              "      fill: #1967D2;\n",
              "      height: 32px;\n",
              "      padding: 0 0 0 0;\n",
              "      width: 32px;\n",
              "    }\n",
              "\n",
              "    .colab-df-convert:hover {\n",
              "      background-color: #E2EBFA;\n",
              "      box-shadow: 0px 1px 2px rgba(60, 64, 67, 0.3), 0px 1px 3px 1px rgba(60, 64, 67, 0.15);\n",
              "      fill: #174EA6;\n",
              "    }\n",
              "\n",
              "    .colab-df-buttons div {\n",
              "      margin-bottom: 4px;\n",
              "    }\n",
              "\n",
              "    [theme=dark] .colab-df-convert {\n",
              "      background-color: #3B4455;\n",
              "      fill: #D2E3FC;\n",
              "    }\n",
              "\n",
              "    [theme=dark] .colab-df-convert:hover {\n",
              "      background-color: #434B5C;\n",
              "      box-shadow: 0px 1px 3px 1px rgba(0, 0, 0, 0.15);\n",
              "      filter: drop-shadow(0px 1px 2px rgba(0, 0, 0, 0.3));\n",
              "      fill: #FFFFFF;\n",
              "    }\n",
              "  </style>\n",
              "\n",
              "    <script>\n",
              "      const buttonEl =\n",
              "        document.querySelector('#df-c033b603-5b7e-43cf-bb71-80ccc98b7174 button.colab-df-convert');\n",
              "      buttonEl.style.display =\n",
              "        google.colab.kernel.accessAllowed ? 'block' : 'none';\n",
              "\n",
              "      async function convertToInteractive(key) {\n",
              "        const element = document.querySelector('#df-c033b603-5b7e-43cf-bb71-80ccc98b7174');\n",
              "        const dataTable =\n",
              "          await google.colab.kernel.invokeFunction('convertToInteractive',\n",
              "                                                    [key], {});\n",
              "        if (!dataTable) return;\n",
              "\n",
              "        const docLinkHtml = 'Like what you see? Visit the ' +\n",
              "          '<a target=\"_blank\" href=https://colab.research.google.com/notebooks/data_table.ipynb>data table notebook</a>'\n",
              "          + ' to learn more about interactive tables.';\n",
              "        element.innerHTML = '';\n",
              "        dataTable['output_type'] = 'display_data';\n",
              "        await google.colab.output.renderOutput(dataTable, element);\n",
              "        const docLink = document.createElement('div');\n",
              "        docLink.innerHTML = docLinkHtml;\n",
              "        element.appendChild(docLink);\n",
              "      }\n",
              "    </script>\n",
              "  </div>\n",
              "\n",
              "\n",
              "<div id=\"df-bd724272-f5e7-49e6-97e1-b5143337836b\">\n",
              "  <button class=\"colab-df-quickchart\" onclick=\"quickchart('df-bd724272-f5e7-49e6-97e1-b5143337836b')\"\n",
              "            title=\"Suggest charts\"\n",
              "            style=\"display:none;\">\n",
              "\n",
              "<svg xmlns=\"http://www.w3.org/2000/svg\" height=\"24px\"viewBox=\"0 0 24 24\"\n",
              "     width=\"24px\">\n",
              "    <g>\n",
              "        <path d=\"M19 3H5c-1.1 0-2 .9-2 2v14c0 1.1.9 2 2 2h14c1.1 0 2-.9 2-2V5c0-1.1-.9-2-2-2zM9 17H7v-7h2v7zm4 0h-2V7h2v10zm4 0h-2v-4h2v4z\"/>\n",
              "    </g>\n",
              "</svg>\n",
              "  </button>\n",
              "\n",
              "<style>\n",
              "  .colab-df-quickchart {\n",
              "      --bg-color: #E8F0FE;\n",
              "      --fill-color: #1967D2;\n",
              "      --hover-bg-color: #E2EBFA;\n",
              "      --hover-fill-color: #174EA6;\n",
              "      --disabled-fill-color: #AAA;\n",
              "      --disabled-bg-color: #DDD;\n",
              "  }\n",
              "\n",
              "  [theme=dark] .colab-df-quickchart {\n",
              "      --bg-color: #3B4455;\n",
              "      --fill-color: #D2E3FC;\n",
              "      --hover-bg-color: #434B5C;\n",
              "      --hover-fill-color: #FFFFFF;\n",
              "      --disabled-bg-color: #3B4455;\n",
              "      --disabled-fill-color: #666;\n",
              "  }\n",
              "\n",
              "  .colab-df-quickchart {\n",
              "    background-color: var(--bg-color);\n",
              "    border: none;\n",
              "    border-radius: 50%;\n",
              "    cursor: pointer;\n",
              "    display: none;\n",
              "    fill: var(--fill-color);\n",
              "    height: 32px;\n",
              "    padding: 0;\n",
              "    width: 32px;\n",
              "  }\n",
              "\n",
              "  .colab-df-quickchart:hover {\n",
              "    background-color: var(--hover-bg-color);\n",
              "    box-shadow: 0 1px 2px rgba(60, 64, 67, 0.3), 0 1px 3px 1px rgba(60, 64, 67, 0.15);\n",
              "    fill: var(--button-hover-fill-color);\n",
              "  }\n",
              "\n",
              "  .colab-df-quickchart-complete:disabled,\n",
              "  .colab-df-quickchart-complete:disabled:hover {\n",
              "    background-color: var(--disabled-bg-color);\n",
              "    fill: var(--disabled-fill-color);\n",
              "    box-shadow: none;\n",
              "  }\n",
              "\n",
              "  .colab-df-spinner {\n",
              "    border: 2px solid var(--fill-color);\n",
              "    border-color: transparent;\n",
              "    border-bottom-color: var(--fill-color);\n",
              "    animation:\n",
              "      spin 1s steps(1) infinite;\n",
              "  }\n",
              "\n",
              "  @keyframes spin {\n",
              "    0% {\n",
              "      border-color: transparent;\n",
              "      border-bottom-color: var(--fill-color);\n",
              "      border-left-color: var(--fill-color);\n",
              "    }\n",
              "    20% {\n",
              "      border-color: transparent;\n",
              "      border-left-color: var(--fill-color);\n",
              "      border-top-color: var(--fill-color);\n",
              "    }\n",
              "    30% {\n",
              "      border-color: transparent;\n",
              "      border-left-color: var(--fill-color);\n",
              "      border-top-color: var(--fill-color);\n",
              "      border-right-color: var(--fill-color);\n",
              "    }\n",
              "    40% {\n",
              "      border-color: transparent;\n",
              "      border-right-color: var(--fill-color);\n",
              "      border-top-color: var(--fill-color);\n",
              "    }\n",
              "    60% {\n",
              "      border-color: transparent;\n",
              "      border-right-color: var(--fill-color);\n",
              "    }\n",
              "    80% {\n",
              "      border-color: transparent;\n",
              "      border-right-color: var(--fill-color);\n",
              "      border-bottom-color: var(--fill-color);\n",
              "    }\n",
              "    90% {\n",
              "      border-color: transparent;\n",
              "      border-bottom-color: var(--fill-color);\n",
              "    }\n",
              "  }\n",
              "</style>\n",
              "\n",
              "  <script>\n",
              "    async function quickchart(key) {\n",
              "      const quickchartButtonEl =\n",
              "        document.querySelector('#' + key + ' button');\n",
              "      quickchartButtonEl.disabled = true;  // To prevent multiple clicks.\n",
              "      quickchartButtonEl.classList.add('colab-df-spinner');\n",
              "      try {\n",
              "        const charts = await google.colab.kernel.invokeFunction(\n",
              "            'suggestCharts', [key], {});\n",
              "      } catch (error) {\n",
              "        console.error('Error during call to suggestCharts:', error);\n",
              "      }\n",
              "      quickchartButtonEl.classList.remove('colab-df-spinner');\n",
              "      quickchartButtonEl.classList.add('colab-df-quickchart-complete');\n",
              "    }\n",
              "    (() => {\n",
              "      let quickchartButtonEl =\n",
              "        document.querySelector('#df-bd724272-f5e7-49e6-97e1-b5143337836b button');\n",
              "      quickchartButtonEl.style.display =\n",
              "        google.colab.kernel.accessAllowed ? 'block' : 'none';\n",
              "    })();\n",
              "  </script>\n",
              "</div>\n",
              "\n",
              "  <div id=\"id_dbc9782e-37ce-4eba-9208-6d037ec6b396\">\n",
              "    <style>\n",
              "      .colab-df-generate {\n",
              "        background-color: #E8F0FE;\n",
              "        border: none;\n",
              "        border-radius: 50%;\n",
              "        cursor: pointer;\n",
              "        display: none;\n",
              "        fill: #1967D2;\n",
              "        height: 32px;\n",
              "        padding: 0 0 0 0;\n",
              "        width: 32px;\n",
              "      }\n",
              "\n",
              "      .colab-df-generate:hover {\n",
              "        background-color: #E2EBFA;\n",
              "        box-shadow: 0px 1px 2px rgba(60, 64, 67, 0.3), 0px 1px 3px 1px rgba(60, 64, 67, 0.15);\n",
              "        fill: #174EA6;\n",
              "      }\n",
              "\n",
              "      [theme=dark] .colab-df-generate {\n",
              "        background-color: #3B4455;\n",
              "        fill: #D2E3FC;\n",
              "      }\n",
              "\n",
              "      [theme=dark] .colab-df-generate:hover {\n",
              "        background-color: #434B5C;\n",
              "        box-shadow: 0px 1px 3px 1px rgba(0, 0, 0, 0.15);\n",
              "        filter: drop-shadow(0px 1px 2px rgba(0, 0, 0, 0.3));\n",
              "        fill: #FFFFFF;\n",
              "      }\n",
              "    </style>\n",
              "    <button class=\"colab-df-generate\" onclick=\"generateWithVariable('df')\"\n",
              "            title=\"Generate code using this dataframe.\"\n",
              "            style=\"display:none;\">\n",
              "\n",
              "  <svg xmlns=\"http://www.w3.org/2000/svg\" height=\"24px\"viewBox=\"0 0 24 24\"\n",
              "       width=\"24px\">\n",
              "    <path d=\"M7,19H8.4L18.45,9,17,7.55,7,17.6ZM5,21V16.75L18.45,3.32a2,2,0,0,1,2.83,0l1.4,1.43a1.91,1.91,0,0,1,.58,1.4,1.91,1.91,0,0,1-.58,1.4L9.25,21ZM18.45,9,17,7.55Zm-12,3A5.31,5.31,0,0,0,4.9,8.1,5.31,5.31,0,0,0,1,6.5,5.31,5.31,0,0,0,4.9,4.9,5.31,5.31,0,0,0,6.5,1,5.31,5.31,0,0,0,8.1,4.9,5.31,5.31,0,0,0,12,6.5,5.46,5.46,0,0,0,6.5,12Z\"/>\n",
              "  </svg>\n",
              "    </button>\n",
              "    <script>\n",
              "      (() => {\n",
              "      const buttonEl =\n",
              "        document.querySelector('#id_dbc9782e-37ce-4eba-9208-6d037ec6b396 button.colab-df-generate');\n",
              "      buttonEl.style.display =\n",
              "        google.colab.kernel.accessAllowed ? 'block' : 'none';\n",
              "\n",
              "      buttonEl.onclick = () => {\n",
              "        google.colab.notebook.generateWithVariable('df');\n",
              "      }\n",
              "      })();\n",
              "    </script>\n",
              "  </div>\n",
              "\n",
              "    </div>\n",
              "  </div>\n"
            ],
            "application/vnd.google.colaboratory.intrinsic+json": {
              "type": "dataframe",
              "variable_name": "df"
            }
          },
          "metadata": {},
          "execution_count": 5
        }
      ]
    },
    {
      "cell_type": "code",
      "source": [
        "#xoa NaN data\n",
        "df=df.dropna()"
      ],
      "metadata": {
        "id": "ornt4EG9yuh9"
      },
      "execution_count": 6,
      "outputs": []
    },
    {
      "cell_type": "code",
      "source": [
        "#preprocess\n",
        "def text_normalize ( text ):\n",
        "\t#Lowercasing\n",
        "\ttext = text.lower()\n",
        "\n",
        "\t# Retweet old acronym \"RT\" removal\n",
        "\ttext = re.sub(r'^rt [\\s]+ ', '', text )\n",
        "\n",
        "\t# Hyperlinks removal\n",
        "\ttext = re.sub(r'https ?:\\/\\/.*[\\ r\\n]* ', '', text )\n",
        "\n",
        "\t# Punctuation removal\n",
        "\ttext = re.sub(r'[^\\w\\s]', '', text )\n",
        "\n",
        "\t# Remove stopwords\n",
        "\tstop_words = set( stopwords.words('english') )\n",
        "\twords = text.split()\n",
        "\twords = [ word for word in words if word not in stop_words ]\n",
        "\ttext = ' '.join( words )\n",
        "\n",
        "\t# Stemming\n",
        "\tstemmer = SnowballStemmer('english')\n",
        "\twords = text.split()\n",
        "\twords = [ stemmer.stem(word) for word in words ]\n",
        "\ttext = ' '.join( words )\n",
        "\treturn text"
      ],
      "metadata": {
        "id": "nC9K9UUPyyzO"
      },
      "execution_count": 7,
      "outputs": []
    },
    {
      "cell_type": "code",
      "source": [
        "#init tf-idf vectorizer\n",
        "vectorizer = TfidfVectorizer(max_features=2000)\n",
        "X = vectorizer.fit_transform(df['clean_text']).toarray()\n"
      ],
      "metadata": {
        "id": "A4DoA9_y1GWk"
      },
      "execution_count": 8,
      "outputs": []
    },
    {
      "cell_type": "code",
      "source": [
        "#add bias into X\n",
        "tmp=np.ones((X.shape[0],1))\n",
        "X=np.concatenate((tmp,X),axis=1)"
      ],
      "metadata": {
        "id": "uTb94DOv2NlT"
      },
      "execution_count": 9,
      "outputs": []
    },
    {
      "cell_type": "code",
      "source": [
        "#one-hot encode y\n",
        "n_classes=df['category'].nunique()\n",
        "n_samples=df['category'].size\n",
        "\n",
        "y=df['category'].to_numpy()+1\n",
        "y=y.astype(np.uint8)\n",
        "y_encoded=np.zeros((n_samples,n_classes))\n",
        "y_encoded[np.arange(n_samples),y]= 1"
      ],
      "metadata": {
        "id": "Zgf9isPj2Xv9"
      },
      "execution_count": 10,
      "outputs": []
    },
    {
      "cell_type": "code",
      "source": [
        "val_size=0.2\n",
        "test_size=0.125\n",
        "random_state=2\n",
        "shuffle=True\n",
        "X_train,X_val,y_train,y_val=train_test_split(\n",
        "    X,y_encoded,\n",
        "    test_size=test_size,\n",
        "    random_state=random_state,\n",
        "    shuffle=shuffle\n",
        ")\n",
        "X_train,X_test,y_train,y_test=train_test_split(\n",
        "    X_train,y_train,\n",
        "    test_size=val_size,\n",
        "    shuffle=shuffle\n",
        ")"
      ],
      "metadata": {
        "id": "-R2TaDJN4Cso"
      },
      "execution_count": 11,
      "outputs": []
    },
    {
      "cell_type": "markdown",
      "source": [
        "# Craft model"
      ],
      "metadata": {
        "id": "PY0EFULjxtiZ"
      }
    },
    {
      "cell_type": "markdown",
      "source": [
        "##Define modules"
      ],
      "metadata": {
        "id": "AMQPXaPi4L-S"
      }
    },
    {
      "cell_type": "code",
      "source": [
        "def softmax(z):\n",
        "    exp_z=np.exp(z)\n",
        "    return exp_z/(exp_z).sum(axis=1).reshape(-1,1)"
      ],
      "metadata": {
        "id": "9LiTXyaz4LPv"
      },
      "execution_count": null,
      "outputs": []
    },
    {
      "cell_type": "code",
      "source": [
        "def predict(X,W):\n",
        "    return softmax(np.dot(X,W))"
      ],
      "metadata": {
        "id": "2STLqbxL4SGJ"
      },
      "execution_count": null,
      "outputs": []
    },
    {
      "cell_type": "code",
      "source": [
        "def compute_loss(y_hat,y):\n",
        "    return (-1/y.size)*np.sum(y*np.log(y_hat))"
      ],
      "metadata": {
        "id": "3vp1w8so4U_w"
      },
      "execution_count": null,
      "outputs": []
    },
    {
      "cell_type": "code",
      "source": [
        "def compute_accuracy(y_hat,y):\n",
        "    return (np.argmax(y_hat,axis=1)==np.argmax(y,axis=1)).mean()"
      ],
      "metadata": {
        "id": "bE4QvLuE4Xgm"
      },
      "execution_count": null,
      "outputs": []
    },
    {
      "cell_type": "code",
      "source": [
        "def compute_gradient(X,y_hat,y):\n",
        "    return np.dot(X.T,(y_hat-y))/y.size"
      ],
      "metadata": {
        "id": "fCdEs-Pn4ZDk"
      },
      "execution_count": null,
      "outputs": []
    },
    {
      "cell_type": "code",
      "source": [
        "def update_W(W,gradient,lr,lamb):\n",
        "    return W-(lr*gradient+lamb*W)"
      ],
      "metadata": {
        "id": "050ArHbc4af9"
      },
      "execution_count": null,
      "outputs": []
    },
    {
      "cell_type": "markdown",
      "source": [
        "##Model"
      ],
      "metadata": {
        "id": "Q9NHhJSI4gId"
      }
    },
    {
      "cell_type": "code",
      "source": [
        "#init\n",
        "lr=0.1\n",
        "epochs=200\n",
        "batch_size=8192\n",
        "lamb=0.000001\n",
        "\n",
        "np.random.seed(random_state)\n",
        "n_features=X_train.shape[1]\n",
        "n_classes=y_train.shape[1]\n",
        "W=np.random.uniform(size=(n_features,n_classes))"
      ],
      "metadata": {
        "id": "1FCjstMj4g8X"
      },
      "execution_count": null,
      "outputs": []
    },
    {
      "cell_type": "code",
      "source": [
        "train_losses=[]\n",
        "train_accs=[]\n",
        "val_losses=[]\n",
        "val_accs=[]\n",
        "for epoch in range(epochs):\n",
        "    train_batch_losses=[]\n",
        "    train_batch_accs=[]\n",
        "    val_batch_losses=[]\n",
        "    val_batch_accs=[]\n",
        "    for i in range(0,X_train.shape[0],batch_size):\n",
        "        X_batch=X_train[i:i+batch_size]\n",
        "        y_batch=y_train[i:i+batch_size]\n",
        "\n",
        "        #train\n",
        "        y_hat=predict(X_batch,W)\n",
        "        train_batch_losses.append(compute_loss(y_hat,y_batch))\n",
        "        train_batch_accs.append(compute_accuracy(y_hat,y_batch))\n",
        "\n",
        "        #validate\n",
        "        y_hat_val=predict(X_val,W)\n",
        "        val_batch_losses.append(compute_loss(y_hat_val,y_val))\n",
        "        val_batch_accs.append(compute_accuracy(y_hat_val,y_val))\n",
        "\n",
        "        #gradient descent\n",
        "        gradient=compute_gradient(X_batch,y_hat,y_batch)\n",
        "        W=update_W(W,gradient,lr,lamb)\n",
        "\n",
        "    train_losses.append(np.array(train_batch_losses).mean())\n",
        "    train_accs.append(np.array(train_batch_accs).mean())\n",
        "    val_losses.append(np.array(val_batch_losses).mean())\n",
        "    val_accs.append(np.array(val_batch_accs).mean())\n",
        "    if (epoch+1)%20==0:\n",
        "        print(f'EPOCH {epoch+1}:\\tTraning Loss: {train_losses[-1]:.3f}\\tValidation Loss: {val_losses[-1]:.3f}')"
      ],
      "metadata": {
        "colab": {
          "base_uri": "https://localhost:8080/"
        },
        "id": "hvedpkUw45rP",
        "outputId": "9a52bfcc-e46a-4ffa-b564-7fc650b5d67b"
      },
      "execution_count": null,
      "outputs": [
        {
          "output_type": "stream",
          "name": "stdout",
          "text": [
            "EPOCH 20:\tTraning Loss: 0.358\tValidation Loss: 0.358\n",
            "EPOCH 40:\tTraning Loss: 0.357\tValidation Loss: 0.356\n",
            "EPOCH 60:\tTraning Loss: 0.355\tValidation Loss: 0.355\n",
            "EPOCH 80:\tTraning Loss: 0.354\tValidation Loss: 0.354\n",
            "EPOCH 100:\tTraning Loss: 0.353\tValidation Loss: 0.352\n",
            "EPOCH 120:\tTraning Loss: 0.351\tValidation Loss: 0.351\n",
            "EPOCH 140:\tTraning Loss: 0.350\tValidation Loss: 0.350\n",
            "EPOCH 160:\tTraning Loss: 0.349\tValidation Loss: 0.349\n",
            "EPOCH 180:\tTraning Loss: 0.348\tValidation Loss: 0.347\n",
            "EPOCH 200:\tTraning Loss: 0.346\tValidation Loss: 0.346\n"
          ]
        }
      ]
    },
    {
      "cell_type": "markdown",
      "source": [
        "##Evaluation"
      ],
      "metadata": {
        "id": "I4HUE8IoHKhA"
      }
    },
    {
      "cell_type": "code",
      "source": [
        "import matplotlib.pyplot as plt\n",
        "\n",
        "fig,axs=plt.subplots(1,2,figsize=(10,4))\n",
        "\n",
        "axs[0].plot(train_losses,label='train')\n",
        "axs[0].plot(val_losses,label='val')\n",
        "axs[0].set_title('Training and Validation Loss')\n",
        "axs[0].set_xlabel('Epochs')\n",
        "axs[0].set_ylabel('Loss')\n",
        "\n",
        "axs[1].plot(train_accs,label='train')\n",
        "axs[1].plot(val_accs,label='val')\n",
        "axs[1].set_title('Training and Validation Accuracy')\n",
        "axs[1].set_xlabel('Epochs')\n",
        "axs[1].set_ylabel('Accuracy')\n",
        "\n",
        "plt.legend()\n",
        "plt.show()"
      ],
      "metadata": {
        "colab": {
          "base_uri": "https://localhost:8080/",
          "height": 410
        },
        "id": "Pzles_5tHL8Z",
        "outputId": "45f4b10b-6149-4d6f-efbc-1f8371625a97"
      },
      "execution_count": null,
      "outputs": [
        {
          "output_type": "display_data",
          "data": {
            "text/plain": [
              "<Figure size 1000x400 with 2 Axes>"
            ],
            "image/png": "[encoded data removed]"
          },
          "metadata": {}
        }
      ]
    },
    {
      "cell_type": "markdown",
      "source": [
        "#TF model"
      ],
      "metadata": {
        "id": "sZtIHDH4IZ6M"
      }
    },
    {
      "cell_type": "code",
      "source": [
        "import tensorflow as tf\n",
        "from tensorflow.keras import Model\n",
        "from tensorflow.keras.layers import Dense,Dropout,Input"
      ],
      "metadata": {
        "id": "CP-mHd8nIbKk"
      },
      "execution_count": 12,
      "outputs": []
    },
    {
      "cell_type": "code",
      "source": [
        "X_train.shape[1]"
      ],
      "metadata": {
        "colab": {
          "base_uri": "https://localhost:8080/"
        },
        "id": "zgPen3cEJLGw",
        "outputId": "f7e2745e-5d69-4508-ca94-7076f0778bd8"
      },
      "execution_count": 13,
      "outputs": [
        {
          "output_type": "execute_result",
          "data": {
            "text/plain": [
              "2001"
            ]
          },
          "metadata": {},
          "execution_count": 13
        }
      ]
    },
    {
      "cell_type": "code",
      "source": [
        "y_train.shape"
      ],
      "metadata": {
        "colab": {
          "base_uri": "https://localhost:8080/"
        },
        "id": "bte5H7C2JgDa",
        "outputId": "1f14d4aa-2819-47ee-f471-17e11f65e8bd"
      },
      "execution_count": 14,
      "outputs": [
        {
          "output_type": "execute_result",
          "data": {
            "text/plain": [
              "(114077, 3)"
            ]
          },
          "metadata": {},
          "execution_count": 14
        }
      ]
    },
    {
      "cell_type": "code",
      "source": [
        "input=Input(shape=(2001))\n",
        "x=Dense(512,activation='relu')(input)\n",
        "x=Dropout(0.5)(x)\n",
        "x=Dense(256,activation='relu')(x)\n",
        "x=Dropout(0.5)(x)\n",
        "x=Dense(128,activation='relu')(x)\n",
        "x=Dropout(0.5)(x)\n",
        "output=Dense(3)(x)\n",
        "model=Model(inputs=input,outputs=output)"
      ],
      "metadata": {
        "id": "N2YWxVx6Ityk"
      },
      "execution_count": 16,
      "outputs": []
    },
    {
      "cell_type": "code",
      "source": [
        "model.compile(\n",
        "    loss=tf.keras.losses.CategoricalCrossentropy(from_logits=True),\n",
        "    optimizer=tf.keras.optimizers.Adam(0.0001),\n",
        "    metrics=tf.keras.metrics.CategoricalAccuracy()\n",
        ")"
      ],
      "metadata": {
        "id": "T6v3fDVFJ2wi"
      },
      "execution_count": 17,
      "outputs": []
    },
    {
      "cell_type": "code",
      "source": [
        "earlyStopping=tf.keras.callbacks.EarlyStopping(\n",
        "    min_delta=0.001,\n",
        "    patience=5,\n",
        "    restore_best_weights=True,\n",
        ")"
      ],
      "metadata": {
        "id": "o1UjtzxvN-mZ"
      },
      "execution_count": 18,
      "outputs": []
    },
    {
      "cell_type": "code",
      "source": [
        "history=model.fit(\n",
        "    X_train,y_train,\n",
        "    validation_data=(X_val,y_val),\n",
        "    batch_size=512,\n",
        "    epochs=200,\n",
        "    callbacks=[earlyStopping]\n",
        ")"
      ],
      "metadata": {
        "colab": {
          "base_uri": "https://localhost:8080/"
        },
        "id": "WDnBELwMKJo7",
        "outputId": "00061edd-340d-4586-a578-1a28a2416164"
      },
      "execution_count": 19,
      "outputs": [
        {
          "output_type": "stream",
          "name": "stdout",
          "text": [
            "Epoch 1/200\n",
            "223/223 [==============================] - 7s 10ms/step - loss: 1.0518 - categorical_accuracy: 0.4422 - val_loss: 0.9903 - val_categorical_accuracy: 0.4878\n",
            "Epoch 2/200\n",
            "223/223 [==============================] - 1s 6ms/step - loss: 0.8410 - categorical_accuracy: 0.6223 - val_loss: 0.5767 - val_categorical_accuracy: 0.7908\n",
            "Epoch 3/200\n",
            "223/223 [==============================] - 2s 7ms/step - loss: 0.5656 - categorical_accuracy: 0.7878 - val_loss: 0.4199 - val_categorical_accuracy: 0.8669\n",
            "Epoch 4/200\n",
            "223/223 [==============================] - 1s 6ms/step - loss: 0.4575 - categorical_accuracy: 0.8467 - val_loss: 0.3802 - val_categorical_accuracy: 0.8839\n",
            "Epoch 5/200\n",
            "223/223 [==============================] - 1s 6ms/step - loss: 0.4115 - categorical_accuracy: 0.8675 - val_loss: 0.3706 - val_categorical_accuracy: 0.8886\n",
            "Epoch 6/200\n",
            "223/223 [==============================] - 1s 6ms/step - loss: 0.3875 - categorical_accuracy: 0.8778 - val_loss: 0.3634 - val_categorical_accuracy: 0.8907\n",
            "Epoch 7/200\n",
            "223/223 [==============================] - 2s 9ms/step - loss: 0.3694 - categorical_accuracy: 0.8852 - val_loss: 0.3625 - val_categorical_accuracy: 0.8919\n",
            "Epoch 8/200\n",
            "223/223 [==============================] - 2s 8ms/step - loss: 0.3562 - categorical_accuracy: 0.8900 - val_loss: 0.3564 - val_categorical_accuracy: 0.8941\n",
            "Epoch 9/200\n",
            "223/223 [==============================] - 1s 6ms/step - loss: 0.3408 - categorical_accuracy: 0.8949 - val_loss: 0.3571 - val_categorical_accuracy: 0.8939\n",
            "Epoch 10/200\n",
            "223/223 [==============================] - 1s 6ms/step - loss: 0.3287 - categorical_accuracy: 0.8996 - val_loss: 0.3545 - val_categorical_accuracy: 0.8946\n",
            "Epoch 11/200\n",
            "223/223 [==============================] - 1s 6ms/step - loss: 0.3175 - categorical_accuracy: 0.9029 - val_loss: 0.3541 - val_categorical_accuracy: 0.8952\n",
            "Epoch 12/200\n",
            "223/223 [==============================] - 1s 6ms/step - loss: 0.3050 - categorical_accuracy: 0.9061 - val_loss: 0.3571 - val_categorical_accuracy: 0.8953\n",
            "Epoch 13/200\n",
            "223/223 [==============================] - 1s 6ms/step - loss: 0.2936 - categorical_accuracy: 0.9087 - val_loss: 0.3542 - val_categorical_accuracy: 0.8947\n",
            "Epoch 14/200\n",
            "223/223 [==============================] - 1s 7ms/step - loss: 0.2829 - categorical_accuracy: 0.9128 - val_loss: 0.3563 - val_categorical_accuracy: 0.8954\n",
            "Epoch 15/200\n",
            "223/223 [==============================] - 2s 8ms/step - loss: 0.2692 - categorical_accuracy: 0.9165 - val_loss: 0.3576 - val_categorical_accuracy: 0.8959\n"
          ]
        }
      ]
    },
    {
      "cell_type": "code",
      "source": [
        "history_df = pd.DataFrame(history.history)"
      ],
      "metadata": {
        "id": "bKlRgVuUKdpB"
      },
      "execution_count": 20,
      "outputs": []
    },
    {
      "cell_type": "code",
      "source": [
        "fig,axs=plt.subplots(1,2,figsize=(10,4))\n",
        "\n",
        "axs[0].plot(history_df.loc[:, ['loss']],label='train')\n",
        "axs[0].plot(history_df.loc[:, ['val_loss']],label='val')\n",
        "axs[0].set_title('Training and Validation Loss')\n",
        "axs[0].set_xlabel('Epochs')\n",
        "axs[0].set_ylabel('Loss')\n",
        "\n",
        "axs[1].plot(history_df.loc[:, ['categorical_accuracy']],label='train')\n",
        "axs[1].plot(history_df.loc[:, ['val_categorical_accuracy']],label='loss')\n",
        "axs[1].set_title('Training and Validation Accuracy')\n",
        "axs[1].set_xlabel('Epochs')\n",
        "axs[1].set_ylabel('Accuracy')\n",
        "\n",
        "plt.legend()\n",
        "plt.show()"
      ],
      "metadata": {
        "colab": {
          "base_uri": "https://localhost:8080/",
          "height": 410
        },
        "id": "fzFtefsuKh6a",
        "outputId": "0156c01e-0b6e-441c-cf92-4998e5128a68"
      },
      "execution_count": 21,
      "outputs": [
        {
          "output_type": "display_data",
          "data": {
            "text/plain": [
              "<Figure size 1000x400 with 2 Axes>"
            ],
            "image/png": "[encoded data removed]"
          },
          "metadata": {}
        }
      ]
    }
  ]
}